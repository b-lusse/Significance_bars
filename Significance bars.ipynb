{
 "cells": [
  {
   "cell_type": "markdown",
   "metadata": {},
   "source": [
    "# Function to plot automatic significance bars for boxplots\n",
    "Bryan Lusse 2020"
   ]
  },
  {
   "cell_type": "code",
   "execution_count": 1,
   "metadata": {},
   "outputs": [],
   "source": [
    "import numpy as np\n",
    "import pandas as pd\n",
    "import matplotlib.pyplot as plt\n",
    "import seaborn as sns\n",
    "from scipy import stats"
   ]
  },
  {
   "cell_type": "code",
   "execution_count": 7,
   "metadata": {},
   "outputs": [
    {
     "data": {
      "text/html": [
       "<div>\n",
       "<style scoped>\n",
       "    .dataframe tbody tr th:only-of-type {\n",
       "        vertical-align: middle;\n",
       "    }\n",
       "\n",
       "    .dataframe tbody tr th {\n",
       "        vertical-align: top;\n",
       "    }\n",
       "\n",
       "    .dataframe thead th {\n",
       "        text-align: right;\n",
       "    }\n",
       "</style>\n",
       "<table border=\"1\" class=\"dataframe\">\n",
       "  <thead>\n",
       "    <tr style=\"text-align: right;\">\n",
       "      <th></th>\n",
       "      <th>Experiment 1</th>\n",
       "      <th>Experiment 2</th>\n",
       "      <th>Experiment 3</th>\n",
       "    </tr>\n",
       "  </thead>\n",
       "  <tbody>\n",
       "    <tr>\n",
       "      <td>0</td>\n",
       "      <td>87</td>\n",
       "      <td>65</td>\n",
       "      <td>13</td>\n",
       "    </tr>\n",
       "    <tr>\n",
       "      <td>1</td>\n",
       "      <td>62</td>\n",
       "      <td>53</td>\n",
       "      <td>10</td>\n",
       "    </tr>\n",
       "    <tr>\n",
       "      <td>2</td>\n",
       "      <td>40</td>\n",
       "      <td>52</td>\n",
       "      <td>34</td>\n",
       "    </tr>\n",
       "    <tr>\n",
       "      <td>3</td>\n",
       "      <td>23</td>\n",
       "      <td>57</td>\n",
       "      <td>44</td>\n",
       "    </tr>\n",
       "    <tr>\n",
       "      <td>4</td>\n",
       "      <td>70</td>\n",
       "      <td>66</td>\n",
       "      <td>11</td>\n",
       "    </tr>\n",
       "  </tbody>\n",
       "</table>\n",
       "</div>"
      ],
      "text/plain": [
       "   Experiment 1  Experiment 2  Experiment 3\n",
       "0            87            65            13\n",
       "1            62            53            10\n",
       "2            40            52            34\n",
       "3            23            57            44\n",
       "4            70            66            11"
      ]
     },
     "execution_count": 7,
     "metadata": {},
     "output_type": "execute_result"
    }
   ],
   "source": [
    "## Generating input data\n",
    "dataset = np.array([np.random.randint(0,100,10),\n",
    "                    np.random.randint(50,70,10),\n",
    "                    np.random.randint(0,50,10)]).transpose()\n",
    "df = pd.DataFrame(dataset, columns=['Experiment 1','Experiment 2','Experiment 3'])\n",
    "df.head()"
   ]
  },
  {
   "cell_type": "code",
   "execution_count": 8,
   "metadata": {
    "scrolled": false
   },
   "outputs": [
    {
     "data": {
      "text/plain": [
       "Text(0.5, 1.0, 'Experiment Results')"
      ]
     },
     "execution_count": 8,
     "metadata": {},
     "output_type": "execute_result"
    },
    {
     "data": {
      "image/png": "[encoded data removed]",
      "text/plain": [
       "<Figure size 864x720 with 1 Axes>"
      ]
     },
     "metadata": {},
     "output_type": "display_data"
    }
   ],
   "source": [
    "def significance_bars(dataframe, comparelist, width=0.5, min_val=0, max_val=10):\n",
    "    \"\"\"\n",
    "    Function to plot boxplots with bars that show significance, i.e. p-values for t-tests between different experiments.\n",
    "    Plots can still be edited outside of function (labels, tick sizes etc.)\n",
    "    \n",
    "    Inputs:\n",
    "    - dataframe = Pandas dataframe with experiment results in the rows and different esperiments in columns\n",
    "    - comparelist = locations of columns that should be compared and have p-values printed\n",
    "    - width (optional) = width of boxplots (default = 0.5)\n",
    "    - min_val (optional) = minimum value of experiments (default = 0)\n",
    "    - max_val (optional) = maximum value of experiments (default = 10)\n",
    "    \n",
    "    Bryan Lusse 2020\n",
    "    \n",
    "    \"\"\"\n",
    "    # Calculating p values\n",
    "    pvalues = []\n",
    "    for comparison in comparelist:\n",
    "        t,p = stats.ttest_ind(dataframe.iloc[:,comparison[0]],dataframe.iloc[:,comparison[1]])\n",
    "        pvalues.append(p)\n",
    "    \n",
    "    # Visualizing individual measurements\n",
    "    vals, names, xs = [],[],[]\n",
    "    for i, col in enumerate(dataframe.columns): \n",
    "        vals.append(dataframe[col].values)\n",
    "        names.append(col)\n",
    "        xs.append(np.random.normal(i + 1, 0.04, dataframe[col].values.shape[0]))  # adds jitter to the data points - can be adjusted\n",
    "    \n",
    "    # Setting plot style\n",
    "    sns.set_style(\"ticks\")  \n",
    "    boxprops = dict(linestyle='-', linewidth=1.5, color='grey')\n",
    "    flierprops = dict(marker='o', markersize=1,linestyle='none')\n",
    "    whiskerprops = dict(color='grey')\n",
    "    capprops = dict(color='grey')\n",
    "    medianprops = dict(linewidth=1.5, linestyle='-', color='black')\n",
    "    \n",
    "    \n",
    "    # Actual plotting\n",
    "    plt.figure(figsize=(12,10))\n",
    "    shape = dataframe.shape[1]\n",
    "    palette = sns.color_palette(\"hls\",shape)\n",
    "    pos = np.array(range(1,shape+1))\n",
    "    pos = pos+0.5\n",
    "    \n",
    "    width_list = np.ones(dataframe.shape[1])*width\n",
    "    \n",
    "    box = plt.boxplot(vals, labels=names, notch=False, boxprops=boxprops, whiskerprops=whiskerprops,capprops=capprops, flierprops=flierprops, medianprops=medianprops,showmeans=False,patch_artist=True, widths=width_list) \n",
    "    for x, val in zip(xs, vals):\n",
    "        plt.scatter(x, val, alpha=0.3, color='grey')\n",
    "    for patch, color in zip(box['boxes'], palette):\n",
    "        patch.set_facecolor(color)\n",
    "\n",
    "    # Statistical annotation\n",
    "    hlist = np.linspace(max_val*0.2,max_val*0.4,shape)\n",
    "    for l, comparison in enumerate(comparelist):\n",
    "        x1,x2 = np.array(comparison)+1\n",
    "        y1 = max(dataframe.iloc[:,comparison[0]])*1.05\n",
    "        y2 = max(dataframe.iloc[:,comparison[1]])*1.05\n",
    "        h = hlist[l]\n",
    "        p = pvalues[l]\n",
    "        plt.plot([x1, x1, x2, x2], [y1, y1+h, y1+h, y2], lw=1, c='k')  \n",
    "        if p<0.001:\n",
    "            plt.text((x1+x2)*.5, y1+h+.1, \"p = %0.1e\"%p, ha='center', va='bottom', color='k',size=13,fontweight='bold')    \n",
    "        elif p<0.05:\n",
    "            plt.text((x1+x2)*.5, y1+h+.1, \"p = %4.3f\"%p, ha='center', va='bottom', color='k',size=13,fontweight='bold')    \n",
    "        else: \n",
    "            plt.text((x1+x2)*.5, y1+h+.1, \"p = %4.3f\"%p, ha='center', va='bottom', color='k',size=13)   \n",
    "\n",
    "            \n",
    "# Example of use           \n",
    "comparelist = [[0,1],[1,2]]\n",
    "significance_bars(df, comparelist, min_val = 0, max_val = 100)\n",
    "plt.xticks(rotation=0,size=13)\n",
    "plt.yticks(visible=True,size=13)\n",
    "plt.ylabel('Concordance index',size=13)\n",
    "plt.gca().spines['right'].set_visible(False)\n",
    "plt.gca().spines['top'].set_visible(False)\n",
    "plt.title('Experiment Results',size=15,fontweight='bold',pad=40,color='black')"
   ]
  },
  {
   "cell_type": "code",
   "execution_count": null,
   "metadata": {},
   "outputs": [],
   "source": []
  }
 ],
 "metadata": {
  "kernelspec": {
   "display_name": "Python 3",
   "language": "python",
   "name": "python3"
  },
  "language_info": {
   "codemirror_mode": {
    "name": "ipython",
    "version": 3
   },
   "file_extension": ".py",
   "mimetype": "text/x-python",
   "name": "python",
   "nbconvert_exporter": "python",
   "pygments_lexer": "ipython3",
   "version": "3.7.3"
  }
 },
 "nbformat": 4,
 "nbformat_minor": 4
}
